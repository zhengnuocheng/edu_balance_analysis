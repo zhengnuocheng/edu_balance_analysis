{
 "cells": [
  {
   "cell_type": "markdown",
   "id": "0ea82377",
   "metadata": {},
   "source": [
    "# 1. 分析数据"
   ]
  },
  {
   "cell_type": "markdown",
   "id": "5e29ce35",
   "metadata": {},
   "source": [
    "## (1) 导入必要库"
   ]
  },
  {
   "cell_type": "code",
   "execution_count": 1,
   "id": "111ca8ab",
   "metadata": {},
   "outputs": [],
   "source": [
    "import pandas as pd\n",
    "import seaborn as sns\n",
    "import matplotlib.pyplot as plt\n",
    "import numpy as np\n",
    "#%matplotlib inline\n",
    "import warnings\n",
    "warnings.filterwarnings(\"ignore\")"
   ]
  },
  {
   "cell_type": "markdown",
   "id": "6fef4d28",
   "metadata": {},
   "source": [
    "## (2) 导入数据"
   ]
  },
  {
   "cell_type": "code",
   "execution_count": 2,
   "id": "2dbd74bc",
   "metadata": {},
   "outputs": [],
   "source": [
    "df_raw = pd.read_csv(\"datasets/原始数据.csv\")"
   ]
  },
  {
   "cell_type": "markdown",
   "id": "ddc06a22",
   "metadata": {},
   "source": [
    "## (3) 观察数据"
   ]
  },
  {
   "cell_type": "code",
   "execution_count": 3,
   "id": "a626d272",
   "metadata": {
    "scrolled": true
   },
   "outputs": [
    {
     "data": {
      "text/html": [
       "<div>\n",
       "<style scoped>\n",
       "    .dataframe tbody tr th:only-of-type {\n",
       "        vertical-align: middle;\n",
       "    }\n",
       "\n",
       "    .dataframe tbody tr th {\n",
       "        vertical-align: top;\n",
       "    }\n",
       "\n",
       "    .dataframe thead th {\n",
       "        text-align: right;\n",
       "    }\n",
       "</style>\n",
       "<table border=\"1\" class=\"dataframe\">\n",
       "  <thead>\n",
       "    <tr style=\"text-align: right;\">\n",
       "      <th></th>\n",
       "      <th>区县</th>\n",
       "      <th>常住人口（万人）</th>\n",
       "      <th>出生率(‰)</th>\n",
       "      <th>GDP（亿元）</th>\n",
       "      <th>义务教育投入</th>\n",
       "      <th>年份</th>\n",
       "      <th>教育财政拨款情况（万元）</th>\n",
       "      <th>高中在校学生人均经费情况（元）</th>\n",
       "      <th>中等职业学校在校学生人均经费情况（元）</th>\n",
       "      <th>初中在校学生人均经费情况（元）</th>\n",
       "      <th>小学在校学生人均经费情况（元）</th>\n",
       "      <th>幼儿园在园幼儿人均经费情况（元）</th>\n",
       "      <th>大学生（万人）</th>\n",
       "      <th>高中生（万人）</th>\n",
       "      <th>初中生（万人）</th>\n",
       "      <th>小学生（万人）</th>\n",
       "      <th>在园幼儿（万人）</th>\n",
       "    </tr>\n",
       "  </thead>\n",
       "  <tbody>\n",
       "    <tr>\n",
       "      <th>0</th>\n",
       "      <td>浦东新区</td>\n",
       "      <td>568.15</td>\n",
       "      <td>NaN</td>\n",
       "      <td>16013.00</td>\n",
       "      <td>NaN</td>\n",
       "      <td>2022</td>\n",
       "      <td>NaN</td>\n",
       "      <td>NaN</td>\n",
       "      <td>NaN</td>\n",
       "      <td>NaN</td>\n",
       "      <td>NaN</td>\n",
       "      <td>NaN</td>\n",
       "      <td>NaN</td>\n",
       "      <td>NaN</td>\n",
       "      <td>NaN</td>\n",
       "      <td>NaN</td>\n",
       "      <td>NaN</td>\n",
       "    </tr>\n",
       "    <tr>\n",
       "      <th>1</th>\n",
       "      <td>闵行区</td>\n",
       "      <td>268.88</td>\n",
       "      <td>NaN</td>\n",
       "      <td>2880.11</td>\n",
       "      <td>NaN</td>\n",
       "      <td>2022</td>\n",
       "      <td>NaN</td>\n",
       "      <td>NaN</td>\n",
       "      <td>NaN</td>\n",
       "      <td>NaN</td>\n",
       "      <td>NaN</td>\n",
       "      <td>NaN</td>\n",
       "      <td>NaN</td>\n",
       "      <td>NaN</td>\n",
       "      <td>NaN</td>\n",
       "      <td>8.28</td>\n",
       "      <td>6.19</td>\n",
       "    </tr>\n",
       "    <tr>\n",
       "      <th>2</th>\n",
       "      <td>宝山区</td>\n",
       "      <td>227.19</td>\n",
       "      <td>4.23</td>\n",
       "      <td>1771.20</td>\n",
       "      <td>NaN</td>\n",
       "      <td>2022</td>\n",
       "      <td>NaN</td>\n",
       "      <td>NaN</td>\n",
       "      <td>NaN</td>\n",
       "      <td>NaN</td>\n",
       "      <td>NaN</td>\n",
       "      <td>NaN</td>\n",
       "      <td>NaN</td>\n",
       "      <td>0.71</td>\n",
       "      <td>1.88</td>\n",
       "      <td>7.77</td>\n",
       "      <td>5.01</td>\n",
       "    </tr>\n",
       "    <tr>\n",
       "      <th>3</th>\n",
       "      <td>松江区</td>\n",
       "      <td>195.45</td>\n",
       "      <td>5.44</td>\n",
       "      <td>1750.12</td>\n",
       "      <td>NaN</td>\n",
       "      <td>2022</td>\n",
       "      <td>NaN</td>\n",
       "      <td>NaN</td>\n",
       "      <td>NaN</td>\n",
       "      <td>NaN</td>\n",
       "      <td>NaN</td>\n",
       "      <td>NaN</td>\n",
       "      <td>NaN</td>\n",
       "      <td>1.11</td>\n",
       "      <td>3.63</td>\n",
       "      <td>7.52</td>\n",
       "      <td>4.96</td>\n",
       "    </tr>\n",
       "    <tr>\n",
       "      <th>4</th>\n",
       "      <td>嘉定区</td>\n",
       "      <td>186.34</td>\n",
       "      <td>NaN</td>\n",
       "      <td>2768.30</td>\n",
       "      <td>NaN</td>\n",
       "      <td>2022</td>\n",
       "      <td>NaN</td>\n",
       "      <td>NaN</td>\n",
       "      <td>NaN</td>\n",
       "      <td>NaN</td>\n",
       "      <td>NaN</td>\n",
       "      <td>NaN</td>\n",
       "      <td>NaN</td>\n",
       "      <td>0.94</td>\n",
       "      <td>3.05</td>\n",
       "      <td>6.24</td>\n",
       "      <td>4.29</td>\n",
       "    </tr>\n",
       "    <tr>\n",
       "      <th>...</th>\n",
       "      <td>...</td>\n",
       "      <td>...</td>\n",
       "      <td>...</td>\n",
       "      <td>...</td>\n",
       "      <td>...</td>\n",
       "      <td>...</td>\n",
       "      <td>...</td>\n",
       "      <td>...</td>\n",
       "      <td>...</td>\n",
       "      <td>...</td>\n",
       "      <td>...</td>\n",
       "      <td>...</td>\n",
       "      <td>...</td>\n",
       "      <td>...</td>\n",
       "      <td>...</td>\n",
       "      <td>...</td>\n",
       "      <td>...</td>\n",
       "    </tr>\n",
       "    <tr>\n",
       "      <th>120</th>\n",
       "      <td>金山区</td>\n",
       "      <td>80.51</td>\n",
       "      <td>NaN</td>\n",
       "      <td>801.56</td>\n",
       "      <td>109555.5</td>\n",
       "      <td>2016</td>\n",
       "      <td>183658.3</td>\n",
       "      <td>45700.37</td>\n",
       "      <td>35174.54</td>\n",
       "      <td>35921.45</td>\n",
       "      <td>27643.80</td>\n",
       "      <td>29227.79</td>\n",
       "      <td>NaN</td>\n",
       "      <td>NaN</td>\n",
       "      <td>NaN</td>\n",
       "      <td>NaN</td>\n",
       "      <td>NaN</td>\n",
       "    </tr>\n",
       "    <tr>\n",
       "      <th>121</th>\n",
       "      <td>松江区</td>\n",
       "      <td>176.48</td>\n",
       "      <td>10.83</td>\n",
       "      <td>1040.45</td>\n",
       "      <td>151387.6</td>\n",
       "      <td>2016</td>\n",
       "      <td>270169.0</td>\n",
       "      <td>47451.67</td>\n",
       "      <td>35627.77</td>\n",
       "      <td>33183.82</td>\n",
       "      <td>22898.00</td>\n",
       "      <td>25242.19</td>\n",
       "      <td>NaN</td>\n",
       "      <td>NaN</td>\n",
       "      <td>NaN</td>\n",
       "      <td>6.06</td>\n",
       "      <td>4.78</td>\n",
       "    </tr>\n",
       "    <tr>\n",
       "      <th>122</th>\n",
       "      <td>青浦区</td>\n",
       "      <td>121.49</td>\n",
       "      <td>8.66</td>\n",
       "      <td>940.01</td>\n",
       "      <td>124050.0</td>\n",
       "      <td>2016</td>\n",
       "      <td>205813.7</td>\n",
       "      <td>43136.66</td>\n",
       "      <td>46450.95</td>\n",
       "      <td>33681.62</td>\n",
       "      <td>30738.77</td>\n",
       "      <td>31361.33</td>\n",
       "      <td>NaN</td>\n",
       "      <td>0.57</td>\n",
       "      <td>1.67</td>\n",
       "      <td>3.57</td>\n",
       "      <td>2.53</td>\n",
       "    </tr>\n",
       "    <tr>\n",
       "      <th>123</th>\n",
       "      <td>奉贤区</td>\n",
       "      <td>116.74</td>\n",
       "      <td>7.40</td>\n",
       "      <td>729.30</td>\n",
       "      <td>143078.8</td>\n",
       "      <td>2016</td>\n",
       "      <td>214711.5</td>\n",
       "      <td>42102.77</td>\n",
       "      <td>28808.14</td>\n",
       "      <td>36366.51</td>\n",
       "      <td>27035.03</td>\n",
       "      <td>28818.61</td>\n",
       "      <td>NaN</td>\n",
       "      <td>0.60</td>\n",
       "      <td>2.07</td>\n",
       "      <td>3.79</td>\n",
       "      <td>2.68</td>\n",
       "    </tr>\n",
       "    <tr>\n",
       "      <th>124</th>\n",
       "      <td>崇明区</td>\n",
       "      <td>69.89</td>\n",
       "      <td>5.35</td>\n",
       "      <td>295.29</td>\n",
       "      <td>118952.5</td>\n",
       "      <td>2016</td>\n",
       "      <td>187441.8</td>\n",
       "      <td>55308.80</td>\n",
       "      <td>41990.52</td>\n",
       "      <td>53513.03</td>\n",
       "      <td>41663.93</td>\n",
       "      <td>32269.26</td>\n",
       "      <td>NaN</td>\n",
       "      <td>0.49</td>\n",
       "      <td>1.14</td>\n",
       "      <td>1.64</td>\n",
       "      <td>0.99</td>\n",
       "    </tr>\n",
       "  </tbody>\n",
       "</table>\n",
       "<p>125 rows × 17 columns</p>\n",
       "</div>"
      ],
      "text/plain": [
       "       区县  常住人口（万人）  出生率(‰)   GDP（亿元）    义务教育投入    年份  教育财政拨款情况（万元）  \\\n",
       "0    浦东新区    568.15     NaN  16013.00       NaN  2022           NaN   \n",
       "1     闵行区    268.88     NaN   2880.11       NaN  2022           NaN   \n",
       "2     宝山区    227.19    4.23   1771.20       NaN  2022           NaN   \n",
       "3     松江区    195.45    5.44   1750.12       NaN  2022           NaN   \n",
       "4     嘉定区    186.34     NaN   2768.30       NaN  2022           NaN   \n",
       "..    ...       ...     ...       ...       ...   ...           ...   \n",
       "120   金山区     80.51     NaN    801.56  109555.5  2016      183658.3   \n",
       "121   松江区    176.48   10.83   1040.45  151387.6  2016      270169.0   \n",
       "122   青浦区    121.49    8.66    940.01  124050.0  2016      205813.7   \n",
       "123   奉贤区    116.74    7.40    729.30  143078.8  2016      214711.5   \n",
       "124   崇明区     69.89    5.35    295.29  118952.5  2016      187441.8   \n",
       "\n",
       "     高中在校学生人均经费情况（元）  中等职业学校在校学生人均经费情况（元）  初中在校学生人均经费情况（元）  小学在校学生人均经费情况（元）  \\\n",
       "0                NaN                  NaN              NaN              NaN   \n",
       "1                NaN                  NaN              NaN              NaN   \n",
       "2                NaN                  NaN              NaN              NaN   \n",
       "3                NaN                  NaN              NaN              NaN   \n",
       "4                NaN                  NaN              NaN              NaN   \n",
       "..               ...                  ...              ...              ...   \n",
       "120         45700.37             35174.54         35921.45         27643.80   \n",
       "121         47451.67             35627.77         33183.82         22898.00   \n",
       "122         43136.66             46450.95         33681.62         30738.77   \n",
       "123         42102.77             28808.14         36366.51         27035.03   \n",
       "124         55308.80             41990.52         53513.03         41663.93   \n",
       "\n",
       "     幼儿园在园幼儿人均经费情况（元）  大学生（万人）  高中生（万人）  初中生（万人）  小学生（万人）  在园幼儿（万人）  \n",
       "0                 NaN      NaN      NaN      NaN      NaN       NaN  \n",
       "1                 NaN      NaN      NaN      NaN     8.28      6.19  \n",
       "2                 NaN      NaN     0.71     1.88     7.77      5.01  \n",
       "3                 NaN      NaN     1.11     3.63     7.52      4.96  \n",
       "4                 NaN      NaN     0.94     3.05     6.24      4.29  \n",
       "..                ...      ...      ...      ...      ...       ...  \n",
       "120          29227.79      NaN      NaN      NaN      NaN       NaN  \n",
       "121          25242.19      NaN      NaN      NaN     6.06      4.78  \n",
       "122          31361.33      NaN     0.57     1.67     3.57      2.53  \n",
       "123          28818.61      NaN     0.60     2.07     3.79      2.68  \n",
       "124          32269.26      NaN     0.49     1.14     1.64      0.99  \n",
       "\n",
       "[125 rows x 17 columns]"
      ]
     },
     "execution_count": 3,
     "metadata": {},
     "output_type": "execute_result"
    }
   ],
   "source": [
    "df_raw"
   ]
  },
  {
   "cell_type": "markdown",
   "id": "9109fa3f",
   "metadata": {},
   "source": [
    "我们可以用到“常住人口（万人）”、“出生率(‰)”、“GDP（亿元）”、“在园幼儿（万人）”、“小学生（万人）”、“初中生（万人）”这六个特征，同时通过计算获得“义务教育经费（万元）”数据作为模型样本标签。"
   ]
  },
  {
   "cell_type": "markdown",
   "id": "7fdc1ce9",
   "metadata": {},
   "source": [
    "## (4) 计算义务教育经费"
   ]
  },
  {
   "cell_type": "markdown",
   "id": "f929c971",
   "metadata": {},
   "source": [
    "先计算各个阶段的教育经费。"
   ]
  },
  {
   "cell_type": "code",
   "execution_count": 4,
   "id": "42ef573c",
   "metadata": {},
   "outputs": [
    {
     "data": {
      "text/html": [
       "<div>\n",
       "<style scoped>\n",
       "    .dataframe tbody tr th:only-of-type {\n",
       "        vertical-align: middle;\n",
       "    }\n",
       "\n",
       "    .dataframe tbody tr th {\n",
       "        vertical-align: top;\n",
       "    }\n",
       "\n",
       "    .dataframe thead th {\n",
       "        text-align: right;\n",
       "    }\n",
       "</style>\n",
       "<table border=\"1\" class=\"dataframe\">\n",
       "  <thead>\n",
       "    <tr style=\"text-align: right;\">\n",
       "      <th></th>\n",
       "      <th>教育财政拨款情况（万元）</th>\n",
       "      <th>幼儿园教育经费（万元）</th>\n",
       "      <th>小学教育经费（万元）</th>\n",
       "      <th>初中教育经费（万元）</th>\n",
       "      <th>高中教育经费（万元）</th>\n",
       "    </tr>\n",
       "  </thead>\n",
       "  <tbody>\n",
       "    <tr>\n",
       "      <th>37</th>\n",
       "      <td>506638.42</td>\n",
       "      <td>181431.9820</td>\n",
       "      <td>248979.0204</td>\n",
       "      <td>80959.3610</td>\n",
       "      <td>35115.3344</td>\n",
       "    </tr>\n",
       "    <tr>\n",
       "      <th>38</th>\n",
       "      <td>449801.73</td>\n",
       "      <td>188178.0660</td>\n",
       "      <td>211574.7356</td>\n",
       "      <td>149880.5361</td>\n",
       "      <td>57347.5320</td>\n",
       "    </tr>\n",
       "    <tr>\n",
       "      <th>39</th>\n",
       "      <td>405118.14</td>\n",
       "      <td>188121.2619</td>\n",
       "      <td>196946.4840</td>\n",
       "      <td>143436.0460</td>\n",
       "      <td>48611.8182</td>\n",
       "    </tr>\n",
       "    <tr>\n",
       "      <th>40</th>\n",
       "      <td>347942.26</td>\n",
       "      <td>97909.1764</td>\n",
       "      <td>166036.1505</td>\n",
       "      <td>131238.7266</td>\n",
       "      <td>71632.0938</td>\n",
       "    </tr>\n",
       "    <tr>\n",
       "      <th>42</th>\n",
       "      <td>314102.29</td>\n",
       "      <td>98829.7236</td>\n",
       "      <td>123575.5812</td>\n",
       "      <td>89196.3840</td>\n",
       "      <td>36411.3035</td>\n",
       "    </tr>\n",
       "  </tbody>\n",
       "</table>\n",
       "</div>"
      ],
      "text/plain": [
       "    教育财政拨款情况（万元）  幼儿园教育经费（万元）   小学教育经费（万元）   初中教育经费（万元）  高中教育经费（万元）\n",
       "37     506638.42  181431.9820  248979.0204   80959.3610  35115.3344\n",
       "38     449801.73  188178.0660  211574.7356  149880.5361  57347.5320\n",
       "39     405118.14  188121.2619  196946.4840  143436.0460  48611.8182\n",
       "40     347942.26   97909.1764  166036.1505  131238.7266  71632.0938\n",
       "42     314102.29   98829.7236  123575.5812   89196.3840  36411.3035"
      ]
     },
     "execution_count": 4,
     "metadata": {},
     "output_type": "execute_result"
    }
   ],
   "source": [
    "df_raw[\"幼儿园教育经费（万元）\"] = df_raw[\"幼儿园在园幼儿人均经费情况（元）\"] * df_raw[\"在园幼儿（万人）\"]\n",
    "df_raw[\"小学教育经费（万元）\"] = df_raw[\"小学在校学生人均经费情况（元）\"] * df_raw[\"小学生（万人）\"]\n",
    "df_raw[\"初中教育经费（万元）\"] = df_raw[\"初中在校学生人均经费情况（元）\"] * df_raw[\"初中生（万人）\"]\n",
    "df_raw[\"高中教育经费（万元）\"] = df_raw[\"高中在校学生人均经费情况（元）\"] * df_raw[\"高中生（万人）\"]\n",
    "df_raw[[ \"教育财政拨款情况（万元）\", \"幼儿园教育经费（万元）\", \"小学教育经费（万元）\", \"初中教育经费（万元）\", \\\n",
    "        \"高中教育经费（万元）\"]] \\\n",
    "[df_raw[\"小学教育经费（万元）\"].notna() & df_raw[\"初中教育经费（万元）\"].notna()].head()"
   ]
  },
  {
   "cell_type": "markdown",
   "id": "90a9c27c",
   "metadata": {},
   "source": [
    "再将小学和初中的教育经费相加，获得义务教育经费；并去除缺数据的样本，重置行号，最终用df_curated变量表示。"
   ]
  },
  {
   "cell_type": "code",
   "execution_count": 5,
   "id": "e7004bc8",
   "metadata": {},
   "outputs": [
    {
     "data": {
      "text/html": [
       "<div>\n",
       "<style scoped>\n",
       "    .dataframe tbody tr th:only-of-type {\n",
       "        vertical-align: middle;\n",
       "    }\n",
       "\n",
       "    .dataframe tbody tr th {\n",
       "        vertical-align: top;\n",
       "    }\n",
       "\n",
       "    .dataframe thead th {\n",
       "        text-align: right;\n",
       "    }\n",
       "</style>\n",
       "<table border=\"1\" class=\"dataframe\">\n",
       "  <thead>\n",
       "    <tr style=\"text-align: right;\">\n",
       "      <th></th>\n",
       "      <th>区县</th>\n",
       "      <th>年份</th>\n",
       "      <th>常住人口（万人）</th>\n",
       "      <th>出生率(‰)</th>\n",
       "      <th>GDP（亿元）</th>\n",
       "      <th>在园幼儿（万人）</th>\n",
       "      <th>小学生（万人）</th>\n",
       "      <th>初中生（万人）</th>\n",
       "      <th>小学教育经费（万元）</th>\n",
       "      <th>初中教育经费（万元）</th>\n",
       "      <th>义务教育经费（万元）</th>\n",
       "    </tr>\n",
       "  </thead>\n",
       "  <tbody>\n",
       "    <tr>\n",
       "      <th>0</th>\n",
       "      <td>宝山区</td>\n",
       "      <td>2021</td>\n",
       "      <td>225.01</td>\n",
       "      <td>4.43</td>\n",
       "      <td>1725.56</td>\n",
       "      <td>5.35</td>\n",
       "      <td>7.59</td>\n",
       "      <td>1.91</td>\n",
       "      <td>248979.0204</td>\n",
       "      <td>80959.3610</td>\n",
       "      <td>329938.3814</td>\n",
       "    </tr>\n",
       "    <tr>\n",
       "      <th>1</th>\n",
       "      <td>松江区</td>\n",
       "      <td>2021</td>\n",
       "      <td>193.88</td>\n",
       "      <td>5.59</td>\n",
       "      <td>1782.28</td>\n",
       "      <td>5.10</td>\n",
       "      <td>7.22</td>\n",
       "      <td>3.33</td>\n",
       "      <td>211574.7356</td>\n",
       "      <td>149880.5361</td>\n",
       "      <td>361455.2717</td>\n",
       "    </tr>\n",
       "    <tr>\n",
       "      <th>2</th>\n",
       "      <td>奉贤区</td>\n",
       "      <td>2021</td>\n",
       "      <td>114.71</td>\n",
       "      <td>4.14</td>\n",
       "      <td>1300.00</td>\n",
       "      <td>2.54</td>\n",
       "      <td>3.66</td>\n",
       "      <td>1.92</td>\n",
       "      <td>123575.5812</td>\n",
       "      <td>89196.3840</td>\n",
       "      <td>212771.9652</td>\n",
       "    </tr>\n",
       "    <tr>\n",
       "      <th>3</th>\n",
       "      <td>徐汇区</td>\n",
       "      <td>2020</td>\n",
       "      <td>111.31</td>\n",
       "      <td>5.17</td>\n",
       "      <td>2176.73</td>\n",
       "      <td>2.49</td>\n",
       "      <td>4.78</td>\n",
       "      <td>2.97</td>\n",
       "      <td>147392.4472</td>\n",
       "      <td>142103.5110</td>\n",
       "      <td>289495.9582</td>\n",
       "    </tr>\n",
       "    <tr>\n",
       "      <th>4</th>\n",
       "      <td>长宁区</td>\n",
       "      <td>2020</td>\n",
       "      <td>69.31</td>\n",
       "      <td>4.69</td>\n",
       "      <td>1561.17</td>\n",
       "      <td>1.25</td>\n",
       "      <td>2.29</td>\n",
       "      <td>1.34</td>\n",
       "      <td>74358.4984</td>\n",
       "      <td>70785.9690</td>\n",
       "      <td>145144.4674</td>\n",
       "    </tr>\n",
       "  </tbody>\n",
       "</table>\n",
       "</div>"
      ],
      "text/plain": [
       "    区县    年份  常住人口（万人）  出生率(‰)  GDP（亿元）  在园幼儿（万人）  小学生（万人）  初中生（万人）  \\\n",
       "0  宝山区  2021    225.01    4.43  1725.56      5.35     7.59     1.91   \n",
       "1  松江区  2021    193.88    5.59  1782.28      5.10     7.22     3.33   \n",
       "2  奉贤区  2021    114.71    4.14  1300.00      2.54     3.66     1.92   \n",
       "3  徐汇区  2020    111.31    5.17  2176.73      2.49     4.78     2.97   \n",
       "4  长宁区  2020     69.31    4.69  1561.17      1.25     2.29     1.34   \n",
       "\n",
       "    小学教育经费（万元）   初中教育经费（万元）   义务教育经费（万元）  \n",
       "0  248979.0204   80959.3610  329938.3814  \n",
       "1  211574.7356  149880.5361  361455.2717  \n",
       "2  123575.5812   89196.3840  212771.9652  \n",
       "3  147392.4472  142103.5110  289495.9582  \n",
       "4   74358.4984   70785.9690  145144.4674  "
      ]
     },
     "execution_count": 5,
     "metadata": {},
     "output_type": "execute_result"
    }
   ],
   "source": [
    "\n",
    "df_curated = df_raw[[\"区县\",\"年份\",\"常住人口（万人）\",\"出生率(‰)\",\"GDP（亿元）\",\"在园幼儿（万人）\",\"小学生（万人）\",\n",
    "                     \"初中生（万人）\",\"小学教育经费（万元）\",\"初中教育经费（万元）\"]]\n",
    "[df_raw[\"小学教育经费（万元）\"].notna() & df_raw[\"初中教育经费（万元）\"].notna()] \n",
    "df_curated[\"义务教育经费（万元）\"] = df_curated[\"小学教育经费（万元）\"] + df_curated[\"初中教育经费（万元）\"]\n",
    "df_curated.dropna(inplace=True)\n",
    "df_curated.reset_index(drop=True, inplace=True)\n",
    "df_curated.head()"
   ]
  },
  {
   "cell_type": "markdown",
   "id": "211c7703",
   "metadata": {},
   "source": [
    "选择合适的列用于构建模型："
   ]
  },
  {
   "cell_type": "code",
   "execution_count": 6,
   "id": "ab98d73a",
   "metadata": {},
   "outputs": [
    {
     "data": {
      "text/html": [
       "<div>\n",
       "<style scoped>\n",
       "    .dataframe tbody tr th:only-of-type {\n",
       "        vertical-align: middle;\n",
       "    }\n",
       "\n",
       "    .dataframe tbody tr th {\n",
       "        vertical-align: top;\n",
       "    }\n",
       "\n",
       "    .dataframe thead th {\n",
       "        text-align: right;\n",
       "    }\n",
       "</style>\n",
       "<table border=\"1\" class=\"dataframe\">\n",
       "  <thead>\n",
       "    <tr style=\"text-align: right;\">\n",
       "      <th></th>\n",
       "      <th>常住人口（万人）</th>\n",
       "      <th>出生率(‰)</th>\n",
       "      <th>GDP（亿元）</th>\n",
       "      <th>在园幼儿（万人）</th>\n",
       "      <th>小学生（万人）</th>\n",
       "      <th>初中生（万人）</th>\n",
       "      <th>义务教育经费（万元）</th>\n",
       "    </tr>\n",
       "  </thead>\n",
       "  <tbody>\n",
       "    <tr>\n",
       "      <th>0</th>\n",
       "      <td>225.01</td>\n",
       "      <td>4.43</td>\n",
       "      <td>1725.56</td>\n",
       "      <td>5.35</td>\n",
       "      <td>7.59</td>\n",
       "      <td>1.91</td>\n",
       "      <td>329938.3814</td>\n",
       "    </tr>\n",
       "    <tr>\n",
       "      <th>1</th>\n",
       "      <td>193.88</td>\n",
       "      <td>5.59</td>\n",
       "      <td>1782.28</td>\n",
       "      <td>5.10</td>\n",
       "      <td>7.22</td>\n",
       "      <td>3.33</td>\n",
       "      <td>361455.2717</td>\n",
       "    </tr>\n",
       "    <tr>\n",
       "      <th>2</th>\n",
       "      <td>114.71</td>\n",
       "      <td>4.14</td>\n",
       "      <td>1300.00</td>\n",
       "      <td>2.54</td>\n",
       "      <td>3.66</td>\n",
       "      <td>1.92</td>\n",
       "      <td>212771.9652</td>\n",
       "    </tr>\n",
       "    <tr>\n",
       "      <th>3</th>\n",
       "      <td>111.31</td>\n",
       "      <td>5.17</td>\n",
       "      <td>2176.73</td>\n",
       "      <td>2.49</td>\n",
       "      <td>4.78</td>\n",
       "      <td>2.97</td>\n",
       "      <td>289495.9582</td>\n",
       "    </tr>\n",
       "    <tr>\n",
       "      <th>4</th>\n",
       "      <td>69.31</td>\n",
       "      <td>4.69</td>\n",
       "      <td>1561.17</td>\n",
       "      <td>1.25</td>\n",
       "      <td>2.29</td>\n",
       "      <td>1.34</td>\n",
       "      <td>145144.4674</td>\n",
       "    </tr>\n",
       "  </tbody>\n",
       "</table>\n",
       "</div>"
      ],
      "text/plain": [
       "   常住人口（万人）  出生率(‰)  GDP（亿元）  在园幼儿（万人）  小学生（万人）  初中生（万人）   义务教育经费（万元）\n",
       "0    225.01    4.43  1725.56      5.35     7.59     1.91  329938.3814\n",
       "1    193.88    5.59  1782.28      5.10     7.22     3.33  361455.2717\n",
       "2    114.71    4.14  1300.00      2.54     3.66     1.92  212771.9652\n",
       "3    111.31    5.17  2176.73      2.49     4.78     2.97  289495.9582\n",
       "4     69.31    4.69  1561.17      1.25     2.29     1.34  145144.4674"
      ]
     },
     "execution_count": 6,
     "metadata": {},
     "output_type": "execute_result"
    }
   ],
   "source": [
    "df_train = df_curated[[\"常住人口（万人）\",\"出生率(‰)\",\"GDP（亿元）\",\"在园幼儿（万人）\",\"小学生（万人）\",\n",
    "                     \"初中生（万人）\",\"义务教育经费（万元）\"]].dropna().reset_index(drop=True)\n",
    "df_train.head()"
   ]
  },
  {
   "cell_type": "code",
   "execution_count": 7,
   "id": "07101dd3",
   "metadata": {},
   "outputs": [
    {
     "data": {
      "text/html": [
       "<div>\n",
       "<style scoped>\n",
       "    .dataframe tbody tr th:only-of-type {\n",
       "        vertical-align: middle;\n",
       "    }\n",
       "\n",
       "    .dataframe tbody tr th {\n",
       "        vertical-align: top;\n",
       "    }\n",
       "\n",
       "    .dataframe thead th {\n",
       "        text-align: right;\n",
       "    }\n",
       "</style>\n",
       "<table border=\"1\" class=\"dataframe\">\n",
       "  <thead>\n",
       "    <tr style=\"text-align: right;\">\n",
       "      <th></th>\n",
       "      <th>常住人口（万人）</th>\n",
       "      <th>出生率(‰)</th>\n",
       "      <th>GDP（亿元）</th>\n",
       "      <th>在园幼儿（万人）</th>\n",
       "      <th>小学生（万人）</th>\n",
       "      <th>初中生（万人）</th>\n",
       "      <th>义务教育经费（万元）</th>\n",
       "    </tr>\n",
       "  </thead>\n",
       "  <tbody>\n",
       "    <tr>\n",
       "      <th>count</th>\n",
       "      <td>46.000000</td>\n",
       "      <td>46.000000</td>\n",
       "      <td>46.000000</td>\n",
       "      <td>46.000000</td>\n",
       "      <td>46.000000</td>\n",
       "      <td>46.000000</td>\n",
       "      <td>46.000000</td>\n",
       "    </tr>\n",
       "    <tr>\n",
       "      <th>mean</th>\n",
       "      <td>148.631087</td>\n",
       "      <td>6.560435</td>\n",
       "      <td>1543.412174</td>\n",
       "      <td>3.587391</td>\n",
       "      <td>4.865435</td>\n",
       "      <td>1.944130</td>\n",
       "      <td>240355.275343</td>\n",
       "    </tr>\n",
       "    <tr>\n",
       "      <th>std</th>\n",
       "      <td>57.010882</td>\n",
       "      <td>1.645705</td>\n",
       "      <td>659.335288</td>\n",
       "      <td>1.882391</td>\n",
       "      <td>2.331285</td>\n",
       "      <td>0.570643</td>\n",
       "      <td>79729.986469</td>\n",
       "    </tr>\n",
       "    <tr>\n",
       "      <th>min</th>\n",
       "      <td>63.790000</td>\n",
       "      <td>3.620000</td>\n",
       "      <td>295.290000</td>\n",
       "      <td>0.900000</td>\n",
       "      <td>1.550000</td>\n",
       "      <td>1.100000</td>\n",
       "      <td>129333.699400</td>\n",
       "    </tr>\n",
       "    <tr>\n",
       "      <th>25%</th>\n",
       "      <td>114.245000</td>\n",
       "      <td>5.275000</td>\n",
       "      <td>1167.987500</td>\n",
       "      <td>2.532500</td>\n",
       "      <td>3.415000</td>\n",
       "      <td>1.620000</td>\n",
       "      <td>179084.907200</td>\n",
       "    </tr>\n",
       "    <tr>\n",
       "      <th>50%</th>\n",
       "      <td>128.815000</td>\n",
       "      <td>6.410000</td>\n",
       "      <td>1576.210000</td>\n",
       "      <td>2.685000</td>\n",
       "      <td>4.225000</td>\n",
       "      <td>1.825000</td>\n",
       "      <td>217514.156050</td>\n",
       "    </tr>\n",
       "    <tr>\n",
       "      <th>75%</th>\n",
       "      <td>193.152500</td>\n",
       "      <td>7.712500</td>\n",
       "      <td>2082.882500</td>\n",
       "      <td>5.082500</td>\n",
       "      <td>6.555000</td>\n",
       "      <td>2.317500</td>\n",
       "      <td>279529.017625</td>\n",
       "    </tr>\n",
       "    <tr>\n",
       "      <th>max</th>\n",
       "      <td>265.350000</td>\n",
       "      <td>10.750000</td>\n",
       "      <td>2608.120000</td>\n",
       "      <td>7.490000</td>\n",
       "      <td>10.300000</td>\n",
       "      <td>3.330000</td>\n",
       "      <td>451621.206000</td>\n",
       "    </tr>\n",
       "  </tbody>\n",
       "</table>\n",
       "</div>"
      ],
      "text/plain": [
       "         常住人口（万人）     出生率(‰)      GDP（亿元）   在园幼儿（万人）    小学生（万人）    初中生（万人）  \\\n",
       "count   46.000000  46.000000    46.000000  46.000000  46.000000  46.000000   \n",
       "mean   148.631087   6.560435  1543.412174   3.587391   4.865435   1.944130   \n",
       "std     57.010882   1.645705   659.335288   1.882391   2.331285   0.570643   \n",
       "min     63.790000   3.620000   295.290000   0.900000   1.550000   1.100000   \n",
       "25%    114.245000   5.275000  1167.987500   2.532500   3.415000   1.620000   \n",
       "50%    128.815000   6.410000  1576.210000   2.685000   4.225000   1.825000   \n",
       "75%    193.152500   7.712500  2082.882500   5.082500   6.555000   2.317500   \n",
       "max    265.350000  10.750000  2608.120000   7.490000  10.300000   3.330000   \n",
       "\n",
       "          义务教育经费（万元）  \n",
       "count      46.000000  \n",
       "mean   240355.275343  \n",
       "std     79729.986469  \n",
       "min    129333.699400  \n",
       "25%    179084.907200  \n",
       "50%    217514.156050  \n",
       "75%    279529.017625  \n",
       "max    451621.206000  "
      ]
     },
     "execution_count": 7,
     "metadata": {},
     "output_type": "execute_result"
    }
   ],
   "source": [
    "df_train.describe()"
   ]
  },
  {
   "cell_type": "code",
   "execution_count": 8,
   "id": "c7e18f5c",
   "metadata": {},
   "outputs": [
    {
     "name": "stdout",
     "output_type": "stream",
     "text": [
      "<class 'pandas.core.frame.DataFrame'>\n",
      "RangeIndex: 46 entries, 0 to 45\n",
      "Data columns (total 7 columns):\n",
      " #   Column      Non-Null Count  Dtype  \n",
      "---  ------      --------------  -----  \n",
      " 0   常住人口（万人）    46 non-null     float64\n",
      " 1   出生率(‰)      46 non-null     float64\n",
      " 2   GDP（亿元）     46 non-null     float64\n",
      " 3   在园幼儿（万人）    46 non-null     float64\n",
      " 4   小学生（万人）     46 non-null     float64\n",
      " 5   初中生（万人）     46 non-null     float64\n",
      " 6   义务教育经费（万元）  46 non-null     float64\n",
      "dtypes: float64(7)\n",
      "memory usage: 2.6 KB\n"
     ]
    }
   ],
   "source": [
    "df_train.info()"
   ]
  },
  {
   "cell_type": "markdown",
   "id": "1c0789fe",
   "metadata": {},
   "source": [
    "查看目标字段分布："
   ]
  },
  {
   "cell_type": "code",
   "execution_count": 9,
   "id": "3f78f151",
   "metadata": {},
   "outputs": [
    {
     "data": {
      "text/plain": [
       "<AxesSubplot:xlabel='义务教育经费（万元）', ylabel='Density'>"
      ]
     },
     "execution_count": 9,
     "metadata": {},
     "output_type": "execute_result"
    },
    {
     "data": {
      "image/png": "[encoded data removed]",
      "text/plain": [
       "<Figure size 640x480 with 1 Axes>"
      ]
     },
     "metadata": {},
     "output_type": "display_data"
    }
   ],
   "source": [
    "sns.set(font_scale=1.25)\n",
    "rc = {'font.sans-serif': 'SimHei',\n",
    "      'axes.unicode_minus': False}\n",
    "sns.set(context='notebook', style='ticks', rc=rc)\n",
    "sns.distplot(df_train['义务教育经费（万元）'])"
   ]
  },
  {
   "cell_type": "markdown",
   "id": "93101892",
   "metadata": {},
   "source": [
    "分布偏左，后续会通过自然对数函数进行转换，以尽量服从正态分布。"
   ]
  },
  {
   "cell_type": "markdown",
   "id": "10d8d580",
   "metadata": {},
   "source": [
    "使用热力图查看字段间的相关性："
   ]
  },
  {
   "cell_type": "code",
   "execution_count": 10,
   "id": "a6104b7a",
   "metadata": {},
   "outputs": [
    {
     "data": {
      "image/png": "[encoded data removed]",
      "text/plain": [
       "<Figure size 1600x500 with 2 Axes>"
      ]
     },
     "metadata": {},
     "output_type": "display_data"
    }
   ],
   "source": [
    "cols = df_train.corr().nlargest(10, '义务教育经费（万元）')['义务教育经费（万元）'].index\n",
    "cm = np.corrcoef(df_train[cols].values.T)\n",
    "plt.figure(figsize = (16, 5))\n",
    "heatmap = sns.heatmap(cm, cbar=True, annot=True, fmt='.2f', annot_kws={'size':10}, vmin=-1, \\\n",
    "                      vmax=1, yticklabels=cols.values, xticklabels=cols.values)\n",
    "heatmap.set_title('相关性热图', fontdict={'fontsize':18}, pad=12);"
   ]
  },
  {
   "cell_type": "markdown",
   "id": "e4bd8890",
   "metadata": {},
   "source": [
    "颜色越浅表示相关性越强。该热力图显示“义务教育经费（万元）”与其它六个特征都具有较强的相关性。"
   ]
  },
  {
   "cell_type": "markdown",
   "id": "f2083c0a",
   "metadata": {},
   "source": [
    "# 2. 特征工程"
   ]
  },
  {
   "cell_type": "markdown",
   "id": "fbbcd472",
   "metadata": {},
   "source": [
    "## (1) 读取数据"
   ]
  },
  {
   "cell_type": "code",
   "execution_count": 11,
   "id": "262189c1",
   "metadata": {},
   "outputs": [],
   "source": [
    "raw_df = df_train"
   ]
  },
  {
   "cell_type": "markdown",
   "id": "31abb8db",
   "metadata": {},
   "source": [
    "## (2) 尝试对标签列进行转换，使之尽量呈正态分布"
   ]
  },
  {
   "cell_type": "code",
   "execution_count": 12,
   "id": "6063e79e",
   "metadata": {},
   "outputs": [
    {
     "data": {
      "text/plain": [
       "<AxesSubplot:xlabel='义务教育经费（万元）', ylabel='Density'>"
      ]
     },
     "execution_count": 12,
     "metadata": {},
     "output_type": "execute_result"
    },
    {
     "data": {
      "image/png": "[encoded data removed]",
      "text/plain": [
       "<Figure size 640x480 with 1 Axes>"
      ]
     },
     "metadata": {},
     "output_type": "display_data"
    }
   ],
   "source": [
    "y_train = np.log1p(raw_df['义务教育经费（万元）'])\n",
    "sns.distplot(y_train)"
   ]
  },
  {
   "cell_type": "markdown",
   "id": "8eae452f",
   "metadata": {},
   "source": [
    "新增log结果列，并取名为label："
   ]
  },
  {
   "cell_type": "code",
   "execution_count": 13,
   "id": "55c845e9",
   "metadata": {},
   "outputs": [
    {
     "data": {
      "text/html": [
       "<div>\n",
       "<style scoped>\n",
       "    .dataframe tbody tr th:only-of-type {\n",
       "        vertical-align: middle;\n",
       "    }\n",
       "\n",
       "    .dataframe tbody tr th {\n",
       "        vertical-align: top;\n",
       "    }\n",
       "\n",
       "    .dataframe thead th {\n",
       "        text-align: right;\n",
       "    }\n",
       "</style>\n",
       "<table border=\"1\" class=\"dataframe\">\n",
       "  <thead>\n",
       "    <tr style=\"text-align: right;\">\n",
       "      <th></th>\n",
       "      <th>常住人口（万人）</th>\n",
       "      <th>出生率(‰)</th>\n",
       "      <th>GDP（亿元）</th>\n",
       "      <th>在园幼儿（万人）</th>\n",
       "      <th>小学生（万人）</th>\n",
       "      <th>初中生（万人）</th>\n",
       "      <th>义务教育经费（万元）</th>\n",
       "      <th>label</th>\n",
       "    </tr>\n",
       "  </thead>\n",
       "  <tbody>\n",
       "    <tr>\n",
       "      <th>0</th>\n",
       "      <td>225.01</td>\n",
       "      <td>4.43</td>\n",
       "      <td>1725.56</td>\n",
       "      <td>5.35</td>\n",
       "      <td>7.59</td>\n",
       "      <td>1.91</td>\n",
       "      <td>329938.3814</td>\n",
       "      <td>12.706664</td>\n",
       "    </tr>\n",
       "    <tr>\n",
       "      <th>1</th>\n",
       "      <td>193.88</td>\n",
       "      <td>5.59</td>\n",
       "      <td>1782.28</td>\n",
       "      <td>5.10</td>\n",
       "      <td>7.22</td>\n",
       "      <td>3.33</td>\n",
       "      <td>361455.2717</td>\n",
       "      <td>12.797896</td>\n",
       "    </tr>\n",
       "    <tr>\n",
       "      <th>2</th>\n",
       "      <td>114.71</td>\n",
       "      <td>4.14</td>\n",
       "      <td>1300.00</td>\n",
       "      <td>2.54</td>\n",
       "      <td>3.66</td>\n",
       "      <td>1.92</td>\n",
       "      <td>212771.9652</td>\n",
       "      <td>12.267981</td>\n",
       "    </tr>\n",
       "    <tr>\n",
       "      <th>3</th>\n",
       "      <td>111.31</td>\n",
       "      <td>5.17</td>\n",
       "      <td>2176.73</td>\n",
       "      <td>2.49</td>\n",
       "      <td>4.78</td>\n",
       "      <td>2.97</td>\n",
       "      <td>289495.9582</td>\n",
       "      <td>12.575900</td>\n",
       "    </tr>\n",
       "    <tr>\n",
       "      <th>4</th>\n",
       "      <td>69.31</td>\n",
       "      <td>4.69</td>\n",
       "      <td>1561.17</td>\n",
       "      <td>1.25</td>\n",
       "      <td>2.29</td>\n",
       "      <td>1.34</td>\n",
       "      <td>145144.4674</td>\n",
       "      <td>11.885492</td>\n",
       "    </tr>\n",
       "  </tbody>\n",
       "</table>\n",
       "</div>"
      ],
      "text/plain": [
       "   常住人口（万人）  出生率(‰)  GDP（亿元）  在园幼儿（万人）  小学生（万人）  初中生（万人）   义务教育经费（万元）  \\\n",
       "0    225.01    4.43  1725.56      5.35     7.59     1.91  329938.3814   \n",
       "1    193.88    5.59  1782.28      5.10     7.22     3.33  361455.2717   \n",
       "2    114.71    4.14  1300.00      2.54     3.66     1.92  212771.9652   \n",
       "3    111.31    5.17  2176.73      2.49     4.78     2.97  289495.9582   \n",
       "4     69.31    4.69  1561.17      1.25     2.29     1.34  145144.4674   \n",
       "\n",
       "       label  \n",
       "0  12.706664  \n",
       "1  12.797896  \n",
       "2  12.267981  \n",
       "3  12.575900  \n",
       "4  11.885492  "
      ]
     },
     "execution_count": 13,
     "metadata": {},
     "output_type": "execute_result"
    }
   ],
   "source": [
    "raw_df[\"label\"] = y_train\n",
    "raw_df.head()"
   ]
  },
  {
   "cell_type": "markdown",
   "id": "b7bd0907",
   "metadata": {},
   "source": [
    "## (2) 复制出新dataframe，用于特征工程"
   ]
  },
  {
   "cell_type": "code",
   "execution_count": 14,
   "id": "35ba952c",
   "metadata": {},
   "outputs": [],
   "source": [
    "raw_train_df = raw_df.copy()"
   ]
  },
  {
   "cell_type": "markdown",
   "id": "f04b0a9d",
   "metadata": {},
   "source": [
    "## (3) 标准化数据"
   ]
  },
  {
   "cell_type": "markdown",
   "id": "3dd30ba4",
   "metadata": {},
   "source": [
    "仅对非标签列进行标准化，使用z-score标准分数。"
   ]
  },
  {
   "cell_type": "code",
   "execution_count": 15,
   "id": "c9f8d420",
   "metadata": {},
   "outputs": [
    {
     "data": {
      "text/plain": [
       "Index(['常住人口（万人）', '出生率(‰)', 'GDP（亿元）', '在园幼儿（万人）', '小学生（万人）', '初中生（万人）'], dtype='object')"
      ]
     },
     "execution_count": 15,
     "metadata": {},
     "output_type": "execute_result"
    }
   ],
   "source": [
    "numeric_cols = raw_train_df.columns[(raw_train_df.dtypes != 'object') \\\n",
    "                                    & (~raw_train_df.columns.isin(['义务教育经费（万元）', 'label']))]\n",
    "numeric_cols"
   ]
  },
  {
   "cell_type": "code",
   "execution_count": 16,
   "id": "e810a319",
   "metadata": {},
   "outputs": [],
   "source": [
    "numeric_col_mean = raw_train_df.loc[:, numeric_cols].mean()\n",
    "numeric_col_std = raw_train_df.loc[:, numeric_cols].std()"
   ]
  },
  {
   "cell_type": "code",
   "execution_count": 17,
   "id": "8bb4e64b",
   "metadata": {},
   "outputs": [
    {
     "data": {
      "text/plain": [
       "常住人口（万人）     148.631087\n",
       "出生率(‰)         6.560435\n",
       "GDP（亿元）     1543.412174\n",
       "在园幼儿（万人）       3.587391\n",
       "小学生（万人）        4.865435\n",
       "初中生（万人）        1.944130\n",
       "dtype: float64"
      ]
     },
     "execution_count": 17,
     "metadata": {},
     "output_type": "execute_result"
    }
   ],
   "source": [
    "numeric_col_mean"
   ]
  },
  {
   "cell_type": "code",
   "execution_count": 18,
   "id": "29584b7c",
   "metadata": {},
   "outputs": [
    {
     "data": {
      "text/plain": [
       "常住人口（万人）     57.010882\n",
       "出生率(‰)        1.645705\n",
       "GDP（亿元）     659.335288\n",
       "在园幼儿（万人）      1.882391\n",
       "小学生（万人）       2.331285\n",
       "初中生（万人）       0.570643\n",
       "dtype: float64"
      ]
     },
     "execution_count": 18,
     "metadata": {},
     "output_type": "execute_result"
    }
   ],
   "source": [
    "numeric_col_std"
   ]
  },
  {
   "cell_type": "code",
   "execution_count": 19,
   "id": "47b7f908",
   "metadata": {},
   "outputs": [],
   "source": [
    "raw_train_df.loc[:, numeric_cols] = (raw_train_df.loc[:, numeric_cols] - numeric_col_mean)/numeric_col_std\n",
    "raw_train_df[\"label\"] = y_train"
   ]
  },
  {
   "cell_type": "markdown",
   "id": "e61243c0",
   "metadata": {},
   "source": [
    "去除原来的“义务教育经费（万元）”列："
   ]
  },
  {
   "cell_type": "code",
   "execution_count": 20,
   "id": "7c24b52b",
   "metadata": {},
   "outputs": [
    {
     "data": {
      "text/html": [
       "<div>\n",
       "<style scoped>\n",
       "    .dataframe tbody tr th:only-of-type {\n",
       "        vertical-align: middle;\n",
       "    }\n",
       "\n",
       "    .dataframe tbody tr th {\n",
       "        vertical-align: top;\n",
       "    }\n",
       "\n",
       "    .dataframe thead th {\n",
       "        text-align: right;\n",
       "    }\n",
       "</style>\n",
       "<table border=\"1\" class=\"dataframe\">\n",
       "  <thead>\n",
       "    <tr style=\"text-align: right;\">\n",
       "      <th></th>\n",
       "      <th>常住人口（万人）</th>\n",
       "      <th>出生率(‰)</th>\n",
       "      <th>GDP（亿元）</th>\n",
       "      <th>在园幼儿（万人）</th>\n",
       "      <th>小学生（万人）</th>\n",
       "      <th>初中生（万人）</th>\n",
       "      <th>label</th>\n",
       "    </tr>\n",
       "  </thead>\n",
       "  <tbody>\n",
       "    <tr>\n",
       "      <th>0</th>\n",
       "      <td>1.339725</td>\n",
       "      <td>-1.294542</td>\n",
       "      <td>0.276260</td>\n",
       "      <td>0.936367</td>\n",
       "      <td>1.168697</td>\n",
       "      <td>-0.059810</td>\n",
       "      <td>12.706664</td>\n",
       "    </tr>\n",
       "    <tr>\n",
       "      <th>1</th>\n",
       "      <td>0.793689</td>\n",
       "      <td>-0.589677</td>\n",
       "      <td>0.362286</td>\n",
       "      <td>0.803557</td>\n",
       "      <td>1.009986</td>\n",
       "      <td>2.428610</td>\n",
       "      <td>12.797896</td>\n",
       "    </tr>\n",
       "    <tr>\n",
       "      <th>2</th>\n",
       "      <td>-0.594993</td>\n",
       "      <td>-1.470758</td>\n",
       "      <td>-0.369178</td>\n",
       "      <td>-0.556415</td>\n",
       "      <td>-0.517069</td>\n",
       "      <td>-0.042286</td>\n",
       "      <td>12.267981</td>\n",
       "    </tr>\n",
       "    <tr>\n",
       "      <th>3</th>\n",
       "      <td>-0.654631</td>\n",
       "      <td>-0.844887</td>\n",
       "      <td>0.960540</td>\n",
       "      <td>-0.582977</td>\n",
       "      <td>-0.036647</td>\n",
       "      <td>1.797743</td>\n",
       "      <td>12.575900</td>\n",
       "    </tr>\n",
       "    <tr>\n",
       "      <th>4</th>\n",
       "      <td>-1.391332</td>\n",
       "      <td>-1.136555</td>\n",
       "      <td>0.026933</td>\n",
       "      <td>-1.241714</td>\n",
       "      <td>-1.104728</td>\n",
       "      <td>-1.058683</td>\n",
       "      <td>11.885492</td>\n",
       "    </tr>\n",
       "  </tbody>\n",
       "</table>\n",
       "</div>"
      ],
      "text/plain": [
       "   常住人口（万人）    出生率(‰)   GDP（亿元）  在园幼儿（万人）   小学生（万人）   初中生（万人）      label\n",
       "0  1.339725 -1.294542  0.276260  0.936367  1.168697 -0.059810  12.706664\n",
       "1  0.793689 -0.589677  0.362286  0.803557  1.009986  2.428610  12.797896\n",
       "2 -0.594993 -1.470758 -0.369178 -0.556415 -0.517069 -0.042286  12.267981\n",
       "3 -0.654631 -0.844887  0.960540 -0.582977 -0.036647  1.797743  12.575900\n",
       "4 -1.391332 -1.136555  0.026933 -1.241714 -1.104728 -1.058683  11.885492"
      ]
     },
     "execution_count": 20,
     "metadata": {},
     "output_type": "execute_result"
    }
   ],
   "source": [
    "raw_train_df.drop(columns=[\"义务教育经费（万元）\"], inplace=True)\n",
    "raw_train_df.head()"
   ]
  },
  {
   "cell_type": "markdown",
   "id": "e124f4cb",
   "metadata": {},
   "source": [
    "# 3. 建立模型"
   ]
  },
  {
   "cell_type": "markdown",
   "id": "e2c9639f",
   "metadata": {},
   "source": [
    "## (1) 准备样本"
   ]
  },
  {
   "cell_type": "code",
   "execution_count": 21,
   "id": "57cfc0e1",
   "metadata": {},
   "outputs": [
    {
     "data": {
      "text/html": [
       "<div>\n",
       "<style scoped>\n",
       "    .dataframe tbody tr th:only-of-type {\n",
       "        vertical-align: middle;\n",
       "    }\n",
       "\n",
       "    .dataframe tbody tr th {\n",
       "        vertical-align: top;\n",
       "    }\n",
       "\n",
       "    .dataframe thead th {\n",
       "        text-align: right;\n",
       "    }\n",
       "</style>\n",
       "<table border=\"1\" class=\"dataframe\">\n",
       "  <thead>\n",
       "    <tr style=\"text-align: right;\">\n",
       "      <th></th>\n",
       "      <th>常住人口（万人）</th>\n",
       "      <th>出生率(‰)</th>\n",
       "      <th>GDP（亿元）</th>\n",
       "      <th>在园幼儿（万人）</th>\n",
       "      <th>小学生（万人）</th>\n",
       "      <th>初中生（万人）</th>\n",
       "    </tr>\n",
       "  </thead>\n",
       "  <tbody>\n",
       "    <tr>\n",
       "      <th>0</th>\n",
       "      <td>1.339725</td>\n",
       "      <td>-1.294542</td>\n",
       "      <td>0.276260</td>\n",
       "      <td>0.936367</td>\n",
       "      <td>1.168697</td>\n",
       "      <td>-0.059810</td>\n",
       "    </tr>\n",
       "    <tr>\n",
       "      <th>1</th>\n",
       "      <td>0.793689</td>\n",
       "      <td>-0.589677</td>\n",
       "      <td>0.362286</td>\n",
       "      <td>0.803557</td>\n",
       "      <td>1.009986</td>\n",
       "      <td>2.428610</td>\n",
       "    </tr>\n",
       "    <tr>\n",
       "      <th>2</th>\n",
       "      <td>-0.594993</td>\n",
       "      <td>-1.470758</td>\n",
       "      <td>-0.369178</td>\n",
       "      <td>-0.556415</td>\n",
       "      <td>-0.517069</td>\n",
       "      <td>-0.042286</td>\n",
       "    </tr>\n",
       "    <tr>\n",
       "      <th>3</th>\n",
       "      <td>-0.654631</td>\n",
       "      <td>-0.844887</td>\n",
       "      <td>0.960540</td>\n",
       "      <td>-0.582977</td>\n",
       "      <td>-0.036647</td>\n",
       "      <td>1.797743</td>\n",
       "    </tr>\n",
       "    <tr>\n",
       "      <th>4</th>\n",
       "      <td>-1.391332</td>\n",
       "      <td>-1.136555</td>\n",
       "      <td>0.026933</td>\n",
       "      <td>-1.241714</td>\n",
       "      <td>-1.104728</td>\n",
       "      <td>-1.058683</td>\n",
       "    </tr>\n",
       "  </tbody>\n",
       "</table>\n",
       "</div>"
      ],
      "text/plain": [
       "   常住人口（万人）    出生率(‰)   GDP（亿元）  在园幼儿（万人）   小学生（万人）   初中生（万人）\n",
       "0  1.339725 -1.294542  0.276260  0.936367  1.168697 -0.059810\n",
       "1  0.793689 -0.589677  0.362286  0.803557  1.009986  2.428610\n",
       "2 -0.594993 -1.470758 -0.369178 -0.556415 -0.517069 -0.042286\n",
       "3 -0.654631 -0.844887  0.960540 -0.582977 -0.036647  1.797743\n",
       "4 -1.391332 -1.136555  0.026933 -1.241714 -1.104728 -1.058683"
      ]
     },
     "execution_count": 21,
     "metadata": {},
     "output_type": "execute_result"
    }
   ],
   "source": [
    "revised_train_df = raw_train_df.copy()\n",
    "\n",
    "from sklearn.model_selection import train_test_split\n",
    "#revised_train_df, revised_test_df = train_test_split(verify_df, test_size=0.2)\n",
    "_, revised_test_df = train_test_split(raw_train_df, test_size=0.2)\n",
    "\n",
    "y_train = revised_train_df.pop(\"label\")\n",
    "revised_train_df.head()"
   ]
  },
  {
   "cell_type": "markdown",
   "id": "c57269d3",
   "metadata": {},
   "source": [
    "输出测试样本，便于直观观察模型计算结果："
   ]
  },
  {
   "cell_type": "code",
   "execution_count": 22,
   "id": "690ce635",
   "metadata": {},
   "outputs": [
    {
     "data": {
      "text/html": [
       "<div>\n",
       "<style scoped>\n",
       "    .dataframe tbody tr th:only-of-type {\n",
       "        vertical-align: middle;\n",
       "    }\n",
       "\n",
       "    .dataframe tbody tr th {\n",
       "        vertical-align: top;\n",
       "    }\n",
       "\n",
       "    .dataframe thead th {\n",
       "        text-align: right;\n",
       "    }\n",
       "</style>\n",
       "<table border=\"1\" class=\"dataframe\">\n",
       "  <thead>\n",
       "    <tr style=\"text-align: right;\">\n",
       "      <th></th>\n",
       "      <th>常住人口（万人）</th>\n",
       "      <th>出生率(‰)</th>\n",
       "      <th>GDP（亿元）</th>\n",
       "      <th>在园幼儿（万人）</th>\n",
       "      <th>小学生（万人）</th>\n",
       "      <th>初中生（万人）</th>\n",
       "    </tr>\n",
       "  </thead>\n",
       "  <tbody>\n",
       "    <tr>\n",
       "      <th>6</th>\n",
       "      <td>2.047309</td>\n",
       "      <td>-0.352697</td>\n",
       "      <td>1.549148</td>\n",
       "      <td>1.701351</td>\n",
       "      <td>2.331146</td>\n",
       "      <td>1.499833</td>\n",
       "    </tr>\n",
       "    <tr>\n",
       "      <th>10</th>\n",
       "      <td>-0.376965</td>\n",
       "      <td>-0.796275</td>\n",
       "      <td>-0.529931</td>\n",
       "      <td>-0.407668</td>\n",
       "      <td>-0.615727</td>\n",
       "      <td>-0.287624</td>\n",
       "    </tr>\n",
       "    <tr>\n",
       "      <th>42</th>\n",
       "      <td>0.163634</td>\n",
       "      <td>1.445924</td>\n",
       "      <td>0.816804</td>\n",
       "      <td>-0.009239</td>\n",
       "      <td>-0.075252</td>\n",
       "      <td>-1.058683</td>\n",
       "    </tr>\n",
       "    <tr>\n",
       "      <th>0</th>\n",
       "      <td>1.339725</td>\n",
       "      <td>-1.294542</td>\n",
       "      <td>0.276260</td>\n",
       "      <td>0.936367</td>\n",
       "      <td>1.168697</td>\n",
       "      <td>-0.059810</td>\n",
       "    </tr>\n",
       "    <tr>\n",
       "      <th>44</th>\n",
       "      <td>-0.559386</td>\n",
       "      <td>0.510155</td>\n",
       "      <td>-1.234747</td>\n",
       "      <td>-0.482042</td>\n",
       "      <td>-0.461306</td>\n",
       "      <td>0.220575</td>\n",
       "    </tr>\n",
       "    <tr>\n",
       "      <th>38</th>\n",
       "      <td>-0.702867</td>\n",
       "      <td>1.676828</td>\n",
       "      <td>-0.032218</td>\n",
       "      <td>-0.620164</td>\n",
       "      <td>-0.324042</td>\n",
       "      <td>0.833918</td>\n",
       "    </tr>\n",
       "    <tr>\n",
       "      <th>13</th>\n",
       "      <td>-0.687081</td>\n",
       "      <td>-0.170404</td>\n",
       "      <td>0.860864</td>\n",
       "      <td>-0.593602</td>\n",
       "      <td>-0.126726</td>\n",
       "      <td>1.534881</td>\n",
       "    </tr>\n",
       "    <tr>\n",
       "      <th>39</th>\n",
       "      <td>-0.310311</td>\n",
       "      <td>1.178562</td>\n",
       "      <td>0.144764</td>\n",
       "      <td>-0.535166</td>\n",
       "      <td>-0.645753</td>\n",
       "      <td>-0.059810</td>\n",
       "    </tr>\n",
       "    <tr>\n",
       "      <th>15</th>\n",
       "      <td>1.864537</td>\n",
       "      <td>0.570919</td>\n",
       "      <td>1.482414</td>\n",
       "      <td>1.887285</td>\n",
       "      <td>2.138120</td>\n",
       "      <td>1.342116</td>\n",
       "    </tr>\n",
       "    <tr>\n",
       "      <th>14</th>\n",
       "      <td>-0.318204</td>\n",
       "      <td>-0.516760</td>\n",
       "      <td>0.818670</td>\n",
       "      <td>-0.497979</td>\n",
       "      <td>-0.375516</td>\n",
       "      <td>0.483436</td>\n",
       "    </tr>\n",
       "  </tbody>\n",
       "</table>\n",
       "</div>"
      ],
      "text/plain": [
       "    常住人口（万人）    出生率(‰)   GDP（亿元）  在园幼儿（万人）   小学生（万人）   初中生（万人）\n",
       "6   2.047309 -0.352697  1.549148  1.701351  2.331146  1.499833\n",
       "10 -0.376965 -0.796275 -0.529931 -0.407668 -0.615727 -0.287624\n",
       "42  0.163634  1.445924  0.816804 -0.009239 -0.075252 -1.058683\n",
       "0   1.339725 -1.294542  0.276260  0.936367  1.168697 -0.059810\n",
       "44 -0.559386  0.510155 -1.234747 -0.482042 -0.461306  0.220575\n",
       "38 -0.702867  1.676828 -0.032218 -0.620164 -0.324042  0.833918\n",
       "13 -0.687081 -0.170404  0.860864 -0.593602 -0.126726  1.534881\n",
       "39 -0.310311  1.178562  0.144764 -0.535166 -0.645753 -0.059810\n",
       "15  1.864537  0.570919  1.482414  1.887285  2.138120  1.342116\n",
       "14 -0.318204 -0.516760  0.818670 -0.497979 -0.375516  0.483436"
      ]
     },
     "execution_count": 22,
     "metadata": {},
     "output_type": "execute_result"
    }
   ],
   "source": [
    "y_test = revised_test_df.pop(\"label\")\n",
    "revised_test_df"
   ]
  },
  {
   "cell_type": "code",
   "execution_count": 23,
   "id": "1b8b3f20",
   "metadata": {},
   "outputs": [
    {
     "data": {
      "text/plain": [
       "0    12.706664\n",
       "1    12.797896\n",
       "2    12.267981\n",
       "3    12.575900\n",
       "4    11.885492\n",
       "Name: label, dtype: float64"
      ]
     },
     "execution_count": 23,
     "metadata": {},
     "output_type": "execute_result"
    }
   ],
   "source": [
    "y_train.head()"
   ]
  },
  {
   "cell_type": "markdown",
   "id": "68e83b4f",
   "metadata": {},
   "source": [
    "# (2) 线性回归"
   ]
  },
  {
   "cell_type": "markdown",
   "id": "b6555d82",
   "metadata": {},
   "source": [
    "我们选取岭回归（Ridge Regression）。"
   ]
  },
  {
   "cell_type": "code",
   "execution_count": 24,
   "id": "d1af872f",
   "metadata": {},
   "outputs": [],
   "source": [
    "from sklearn.linear_model import Ridge\n",
    "from sklearn.model_selection import cross_val_score"
   ]
  },
  {
   "cell_type": "markdown",
   "id": "27b5ea88",
   "metadata": {},
   "source": [
    "通过cross_val_score选择超参alpha。"
   ]
  },
  {
   "cell_type": "code",
   "execution_count": 25,
   "id": "236aad03",
   "metadata": {},
   "outputs": [
    {
     "data": {
      "text/plain": [
       "array([ 0.01      ,  0.0143845 ,  0.02069138,  0.02976351,  0.04281332,\n",
       "        0.06158482,  0.08858668,  0.1274275 ,  0.18329807,  0.26366509,\n",
       "        0.37926902,  0.54555948,  0.78475997,  1.12883789,  1.62377674,\n",
       "        2.33572147,  3.35981829,  4.83293024,  6.95192796, 10.        ])"
      ]
     },
     "execution_count": 25,
     "metadata": {},
     "output_type": "execute_result"
    }
   ],
   "source": [
    "alphas = np.logspace(-2, 1, 20)\n",
    "alphas"
   ]
  },
  {
   "cell_type": "code",
   "execution_count": 26,
   "id": "0e5d3f68",
   "metadata": {},
   "outputs": [],
   "source": [
    "X_train = revised_train_df.values\n",
    "test_scores=[]\n",
    "for alpha in alphas:\n",
    "    ridge_es = Ridge(alpha)\n",
    "    test_score = np.sqrt(-cross_val_score(ridge_es, X_train, y_train, cv=10, scoring='neg_mean_squared_error'))\n",
    "    test_scores.append(np.mean(test_score))"
   ]
  },
  {
   "cell_type": "code",
   "execution_count": 27,
   "id": "e102e8ee",
   "metadata": {},
   "outputs": [
    {
     "data": {
      "text/plain": [
       "Text(0.5, 1.0, 'Alphas vs cv Error')"
      ]
     },
     "execution_count": 27,
     "metadata": {},
     "output_type": "execute_result"
    },
    {
     "data": {
      "image/png": "[encoded data removed]",
      "text/plain": [
       "<Figure size 640x480 with 1 Axes>"
      ]
     },
     "metadata": {},
     "output_type": "display_data"
    }
   ],
   "source": [
    "plt.plot(alphas, test_scores)\n",
    "plt.title('Alphas vs cv Error')"
   ]
  },
  {
   "cell_type": "code",
   "execution_count": 28,
   "id": "5c9ba8b8",
   "metadata": {},
   "outputs": [
    {
     "name": "stdout",
     "output_type": "stream",
     "text": [
      "2.3357214690901213\n"
     ]
    }
   ],
   "source": [
    "minpos = test_scores.index(min(test_scores))\n",
    "print(alphas[minpos])"
   ]
  },
  {
   "cell_type": "markdown",
   "id": "0bacb22c",
   "metadata": {},
   "source": [
    "由上图可知超参alphas取2.34时错误率最低。"
   ]
  },
  {
   "cell_type": "markdown",
   "id": "fba39c78",
   "metadata": {},
   "source": [
    "## (3) 非线性回归"
   ]
  },
  {
   "cell_type": "markdown",
   "id": "6ed5c40b",
   "metadata": {},
   "source": [
    "我们选择随机森林（Random Forest）。"
   ]
  },
  {
   "cell_type": "code",
   "execution_count": 29,
   "id": "978bcc24",
   "metadata": {},
   "outputs": [],
   "source": [
    "from sklearn.ensemble import RandomForestRegressor"
   ]
  },
  {
   "cell_type": "markdown",
   "id": "895db710",
   "metadata": {},
   "source": [
    "随机森林由多个超参，我们通过GridSearchCV进行网格搜索。"
   ]
  },
  {
   "cell_type": "code",
   "execution_count": 30,
   "id": "ea7561d6",
   "metadata": {},
   "outputs": [
    {
     "data": {
      "text/plain": [
       "{'max_features': 5, 'n_estimators': 40}"
      ]
     },
     "execution_count": 30,
     "metadata": {},
     "output_type": "execute_result"
    }
   ],
   "source": [
    "from sklearn.model_selection import GridSearchCV\n",
    "parameters = [\n",
    "    {'n_estimators': [5, 10, 20, 30, 40, 60, 100], 'max_features': [1, 2, 3, 4, 5, 6]}\n",
    "  ]\n",
    "rf_es = RandomForestRegressor(random_state=20)\n",
    "grid_search = GridSearchCV(rf_es, parameters, cv=5,\n",
    "                           scoring='neg_mean_squared_error',\n",
    "                           return_train_score=True)\n",
    "grid_search.fit(X_train, y_train)\n",
    "grid_search.best_params_"
   ]
  },
  {
   "cell_type": "markdown",
   "id": "acdcc4c1",
   "metadata": {},
   "source": [
    "由结果可知，超参n_estimators=40, max_features=5时错误率最低。画图确认下。"
   ]
  },
  {
   "cell_type": "code",
   "execution_count": 31,
   "id": "1a03c3b8",
   "metadata": {},
   "outputs": [
    {
     "data": {
      "text/plain": [
       "Text(0.5, 1.0, 'n_estimators & max_features vs CV Error')"
      ]
     },
     "execution_count": 31,
     "metadata": {},
     "output_type": "execute_result"
    },
    {
     "data": {
      "image/png": "[encoded data removed]",
      "text/plain": [
       "<Figure size 640x480 with 1 Axes>"
      ]
     },
     "metadata": {},
     "output_type": "display_data"
    }
   ],
   "source": [
    "n_estimators = [5, 10, 20, 30, 40, 60, 100]\n",
    "test_scores = []\n",
    "for n in n_estimators:\n",
    "    rf_es = RandomForestRegressor(n_estimators=n, max_features=5, random_state=20)\n",
    "    test_score = np.sqrt(-cross_val_score(rf_es, X_train, y_train, cv=3, scoring='neg_mean_squared_error'))\n",
    "    test_scores.append(np.mean(test_score))\n",
    "plt.plot(n_estimators, test_scores)\n",
    "plt.title(\"n_estimator vs CV Error\")\n",
    "\n",
    "max_features = [1, 2, 3, 4, 5, 6]\n",
    "test_scores = []\n",
    "for m in max_features:\n",
    "    rf_es = RandomForestRegressor(n_estimators=40, max_features=m, random_state=20)\n",
    "    test_score = np.sqrt(-cross_val_score(rf_es, X_train, y_train, cv=3, scoring='neg_mean_squared_error'))\n",
    "    test_scores.append(np.mean(test_score))\n",
    "plt.plot(max_features, test_scores)\n",
    "plt.title(\"n_estimators & max_features vs CV Error\")"
   ]
  },
  {
   "cell_type": "markdown",
   "id": "05335453",
   "metadata": {},
   "source": [
    "从上图可知，通过GridSearchCV进行网格搜索的确可以获得最有的超参。"
   ]
  },
  {
   "cell_type": "markdown",
   "id": "f0832948",
   "metadata": {},
   "source": [
    "## (4) 集成学习"
   ]
  },
  {
   "cell_type": "markdown",
   "id": "f8c7aa28",
   "metadata": {},
   "source": [
    "通过集成两个模型的预测值取平均值，以提高泛化能力。"
   ]
  },
  {
   "cell_type": "code",
   "execution_count": 32,
   "id": "0c0a526b",
   "metadata": {},
   "outputs": [
    {
     "data": {
      "text/plain": [
       "RandomForestRegressor(max_features=5, n_estimators=40)"
      ]
     },
     "execution_count": 32,
     "metadata": {},
     "output_type": "execute_result"
    }
   ],
   "source": [
    "ridge = Ridge(alpha=2.34)\n",
    "rf = RandomForestRegressor(n_estimators=40, max_features=5)\n",
    "ridge.fit(X_train, y_train)\n",
    "rf.fit(X_train, y_train)"
   ]
  },
  {
   "cell_type": "markdown",
   "id": "2d582c35",
   "metadata": {},
   "source": [
    "验证测试样本："
   ]
  },
  {
   "cell_type": "code",
   "execution_count": 33,
   "id": "f3cea6e6",
   "metadata": {},
   "outputs": [
    {
     "name": "stdout",
     "output_type": "stream",
     "text": [
      "岭回归训练集预测分数0.940256241614267，测试集预测分数0.9472524290790731\n",
      "随机森林训练集预测分数0.9883370680621569，测试集预测分数0.9930373239202599\n"
     ]
    }
   ],
   "source": [
    "X_test = revised_test_df.values\n",
    "train_score_ridge = ridge.score(X_train, y_train)\n",
    "test_score_ridge = ridge.score(X_test, y_test)\n",
    "print(f\"岭回归训练集预测分数{train_score_ridge}，测试集预测分数{test_score_ridge}\")\n",
    "\n",
    "train_score_rf = rf.score(X_train, y_train)\n",
    "test_score_rf = rf.score(X_test, y_test)\n",
    "print(f'随机森林训练集预测分数{train_score_rf}，测试集预测分数{test_score_rf}')\n",
    "\n",
    "ridge_predict = ridge.predict(X_test)\n",
    "rf_predict = rf.predict(X_test)\n",
    "y_ridge = np.expm1(ridge_predict)\n",
    "y_rf = np.expm1(rf_predict)"
   ]
  },
  {
   "cell_type": "markdown",
   "id": "0344dee4",
   "metadata": {},
   "source": [
    "使用两模型预测值的均值作为最终预测值，并计算R^2分值："
   ]
  },
  {
   "cell_type": "code",
   "execution_count": 34,
   "id": "9c2b9b89",
   "metadata": {},
   "outputs": [
    {
     "name": "stdout",
     "output_type": "stream",
     "text": [
      "根均方误差(RMSE)：11341.154284620738\n",
      "R^2 score：0.9869077354484008\n"
     ]
    }
   ],
   "source": [
    "y_final = (y_ridge+y_rf)/2\n",
    "y_test_ori = np.expm1(y_test.values)\n",
    "from sklearn.metrics import mean_squared_error, r2_score\n",
    "print(\"根均方误差(RMSE)：{}\".format(np.sqrt(mean_squared_error(y_test_ori, y_final))))\n",
    "print(\"R^2 score：{}\".format(r2_score(y_test_ori, y_final)))"
   ]
  },
  {
   "cell_type": "markdown",
   "id": "f8001550",
   "metadata": {},
   "source": [
    "## (5) 比对预测结果"
   ]
  },
  {
   "cell_type": "markdown",
   "id": "f53cec3e",
   "metadata": {},
   "source": [
    "构建验证集："
   ]
  },
  {
   "cell_type": "code",
   "execution_count": 35,
   "id": "fc2418b0",
   "metadata": {},
   "outputs": [],
   "source": [
    "df_final = df_curated.copy()\n",
    "verify_df = raw_train_df.copy()\n",
    "verify_df.drop(columns=[\"label\"], inplace=True)\n",
    "X_verify = verify_df.values\n",
    "ridge_predict = ridge.predict(X_verify)\n",
    "rf_predict = rf.predict(X_verify)\n",
    "y_ridge = np.expm1(ridge_predict)\n",
    "y_rf = np.expm1(rf_predict)\n",
    "y_final = (y_ridge+y_rf)/2"
   ]
  },
  {
   "cell_type": "markdown",
   "id": "36885e6c",
   "metadata": {},
   "source": [
    "计算预测差额及百分比："
   ]
  },
  {
   "cell_type": "code",
   "execution_count": 36,
   "id": "b6cf906f",
   "metadata": {},
   "outputs": [
    {
     "data": {
      "text/html": [
       "<div>\n",
       "<style scoped>\n",
       "    .dataframe tbody tr th:only-of-type {\n",
       "        vertical-align: middle;\n",
       "    }\n",
       "\n",
       "    .dataframe tbody tr th {\n",
       "        vertical-align: top;\n",
       "    }\n",
       "\n",
       "    .dataframe thead th {\n",
       "        text-align: right;\n",
       "    }\n",
       "</style>\n",
       "<table border=\"1\" class=\"dataframe\">\n",
       "  <thead>\n",
       "    <tr style=\"text-align: right;\">\n",
       "      <th></th>\n",
       "      <th>区县</th>\n",
       "      <th>年份</th>\n",
       "      <th>常住人口（万人）</th>\n",
       "      <th>出生率(‰)</th>\n",
       "      <th>GDP（亿元）</th>\n",
       "      <th>在园幼儿（万人）</th>\n",
       "      <th>小学生（万人）</th>\n",
       "      <th>初中生（万人）</th>\n",
       "      <th>小学教育经费（万元）</th>\n",
       "      <th>初中教育经费（万元）</th>\n",
       "      <th>义务教育经费（万元）</th>\n",
       "      <th>预测义务教育经费（万元）</th>\n",
       "      <th>预测差额（万元）</th>\n",
       "      <th>预测差额百分比</th>\n",
       "    </tr>\n",
       "  </thead>\n",
       "  <tbody>\n",
       "    <tr>\n",
       "      <th>0</th>\n",
       "      <td>宝山区</td>\n",
       "      <td>2021</td>\n",
       "      <td>225.01</td>\n",
       "      <td>4.43</td>\n",
       "      <td>1725.56</td>\n",
       "      <td>5.35</td>\n",
       "      <td>7.59</td>\n",
       "      <td>1.91</td>\n",
       "      <td>248979.0204</td>\n",
       "      <td>80959.3610</td>\n",
       "      <td>329938.3814</td>\n",
       "      <td>325685.832781</td>\n",
       "      <td>4252.548619</td>\n",
       "      <td>1.288892</td>\n",
       "    </tr>\n",
       "    <tr>\n",
       "      <th>1</th>\n",
       "      <td>松江区</td>\n",
       "      <td>2021</td>\n",
       "      <td>193.88</td>\n",
       "      <td>5.59</td>\n",
       "      <td>1782.28</td>\n",
       "      <td>5.10</td>\n",
       "      <td>7.22</td>\n",
       "      <td>3.33</td>\n",
       "      <td>211574.7356</td>\n",
       "      <td>149880.5361</td>\n",
       "      <td>361455.2717</td>\n",
       "      <td>367465.858488</td>\n",
       "      <td>-6010.586788</td>\n",
       "      <td>-1.662885</td>\n",
       "    </tr>\n",
       "    <tr>\n",
       "      <th>2</th>\n",
       "      <td>奉贤区</td>\n",
       "      <td>2021</td>\n",
       "      <td>114.71</td>\n",
       "      <td>4.14</td>\n",
       "      <td>1300.00</td>\n",
       "      <td>2.54</td>\n",
       "      <td>3.66</td>\n",
       "      <td>1.92</td>\n",
       "      <td>123575.5812</td>\n",
       "      <td>89196.3840</td>\n",
       "      <td>212771.9652</td>\n",
       "      <td>217314.267206</td>\n",
       "      <td>-4542.302006</td>\n",
       "      <td>-2.134822</td>\n",
       "    </tr>\n",
       "    <tr>\n",
       "      <th>3</th>\n",
       "      <td>徐汇区</td>\n",
       "      <td>2020</td>\n",
       "      <td>111.31</td>\n",
       "      <td>5.17</td>\n",
       "      <td>2176.73</td>\n",
       "      <td>2.49</td>\n",
       "      <td>4.78</td>\n",
       "      <td>2.97</td>\n",
       "      <td>147392.4472</td>\n",
       "      <td>142103.5110</td>\n",
       "      <td>289495.9582</td>\n",
       "      <td>286155.853132</td>\n",
       "      <td>3340.105068</td>\n",
       "      <td>1.153766</td>\n",
       "    </tr>\n",
       "    <tr>\n",
       "      <th>4</th>\n",
       "      <td>长宁区</td>\n",
       "      <td>2020</td>\n",
       "      <td>69.31</td>\n",
       "      <td>4.69</td>\n",
       "      <td>1561.17</td>\n",
       "      <td>1.25</td>\n",
       "      <td>2.29</td>\n",
       "      <td>1.34</td>\n",
       "      <td>74358.4984</td>\n",
       "      <td>70785.9690</td>\n",
       "      <td>145144.4674</td>\n",
       "      <td>163612.931106</td>\n",
       "      <td>-18468.463706</td>\n",
       "      <td>-12.724194</td>\n",
       "    </tr>\n",
       "  </tbody>\n",
       "</table>\n",
       "</div>"
      ],
      "text/plain": [
       "    区县    年份  常住人口（万人）  出生率(‰)  GDP（亿元）  在园幼儿（万人）  小学生（万人）  初中生（万人）  \\\n",
       "0  宝山区  2021    225.01    4.43  1725.56      5.35     7.59     1.91   \n",
       "1  松江区  2021    193.88    5.59  1782.28      5.10     7.22     3.33   \n",
       "2  奉贤区  2021    114.71    4.14  1300.00      2.54     3.66     1.92   \n",
       "3  徐汇区  2020    111.31    5.17  2176.73      2.49     4.78     2.97   \n",
       "4  长宁区  2020     69.31    4.69  1561.17      1.25     2.29     1.34   \n",
       "\n",
       "    小学教育经费（万元）   初中教育经费（万元）   义务教育经费（万元）   预测义务教育经费（万元）      预测差额（万元）  \\\n",
       "0  248979.0204   80959.3610  329938.3814  325685.832781   4252.548619   \n",
       "1  211574.7356  149880.5361  361455.2717  367465.858488  -6010.586788   \n",
       "2  123575.5812   89196.3840  212771.9652  217314.267206  -4542.302006   \n",
       "3  147392.4472  142103.5110  289495.9582  286155.853132   3340.105068   \n",
       "4   74358.4984   70785.9690  145144.4674  163612.931106 -18468.463706   \n",
       "\n",
       "     预测差额百分比  \n",
       "0   1.288892  \n",
       "1  -1.662885  \n",
       "2  -2.134822  \n",
       "3   1.153766  \n",
       "4 -12.724194  "
      ]
     },
     "execution_count": 36,
     "metadata": {},
     "output_type": "execute_result"
    }
   ],
   "source": [
    "df_final['预测义务教育经费（万元）'] = y_final.tolist()\n",
    "df_final['预测差额（万元）'] = df_final['义务教育经费（万元）'] - df_final['预测义务教育经费（万元）']\n",
    "df_final['预测差额百分比'] = df_final['预测差额（万元）'] / df_final['义务教育经费（万元）'] * 100\n",
    "df_final.head()"
   ]
  },
  {
   "cell_type": "markdown",
   "id": "76b077bd",
   "metadata": {},
   "source": [
    "## (5) 各区各年份义务教育经费多寡走势分析"
   ]
  },
  {
   "cell_type": "code",
   "execution_count": 37,
   "id": "d4b51843",
   "metadata": {},
   "outputs": [],
   "source": [
    "year_min = df_final['年份'].min()\n",
    "year_max = df_final['年份'].max()\n",
    "years = year_max - year_min + 1\n",
    "districts = df_final['区县'].unique()\n",
    "districts_count = len(districts)"
   ]
  },
  {
   "cell_type": "code",
   "execution_count": 38,
   "id": "1a974424",
   "metadata": {},
   "outputs": [
    {
     "data": {
      "image/png": "[encoded data removed]",
      "text/plain": [
       "<Figure size 2000x800 with 1 Axes>"
      ]
     },
     "metadata": {},
     "output_type": "display_data"
    }
   ],
   "source": [
    "total_width = 0.8\n",
    "width = total_width / districts_count\n",
    "x = np.arange(years)\n",
    "x = x - (total_width - width) / 2 + year_min\n",
    "\n",
    "fig, ax = plt.subplots(figsize=(20,8))\n",
    "ax.set(ylabel='差额百分比%',xlabel='年份', title='各区各年份义务教育经费多寡走势分析', ylim=(-15, 10))\n",
    "\n",
    "for idx, dist in enumerate(districts):\n",
    "    dist_values = [0] * years\n",
    "    for y_idx in range(years):\n",
    "        year = year_min + y_idx\n",
    "        row = df_final[(df_final['区县'] == dist) & (df_final['年份'] == year)]['预测差额百分比'].values\n",
    "        dist_values[y_idx] = row[0] if len(row) > 0 else 0\n",
    "    \n",
    "    bar_container = ax.bar(x + width * idx, dist_values,  width=width, label=dist)\n",
    "    \n",
    "plt.legend()\n",
    "plt.show()"
   ]
  },
  {
   "cell_type": "markdown",
   "id": "e7dc5fc1",
   "metadata": {},
   "source": [
    "# 分析结论"
   ]
  },
  {
   "cell_type": "markdown",
   "id": "b6c9b11f",
   "metadata": {},
   "source": [
    "1. 杨浦、闵行的义务教育经费持续较高。嘉定、奉贤经费持续较低。徐汇、青浦、崇明经费近年有所提升。松江经费近年有所降低。\n",
    "2. 中心城区的数据偏少。最近两年的数据缺失。可以进一步完善。\n"
   ]
  },
  {
   "cell_type": "markdown",
   "id": "1eec84e9",
   "metadata": {},
   "source": [
    "# 参考链接"
   ]
  },
  {
   "cell_type": "markdown",
   "id": "03ddb0ce",
   "metadata": {},
   "source": [
    "皮尔逊积矩相关系数： https://zh.wikipedia.org/zh-hans/%E7%9A%AE%E5%B0%94%E9%80%8A%E7%A7%AF%E7%9F%A9%E7%9B%B8%E5%85%B3%E7%B3%BB%E6%95%B0"
   ]
  },
  {
   "cell_type": "markdown",
   "id": "66c35a1f",
   "metadata": {},
   "source": [
    "z-score标准化分数： https://zh.wikipedia.org/zh-hans/%E6%A8%99%E6%BA%96%E5%88%86%E6%95%B8"
   ]
  },
  {
   "cell_type": "markdown",
   "id": "b0bc8912",
   "metadata": {},
   "source": [
    "numpy.logspace: https://numpy.org/doc/stable/reference/generated/numpy.logspace.html"
   ]
  },
  {
   "cell_type": "markdown",
   "id": "25b1466b",
   "metadata": {},
   "source": [
    "cross_val_score: https://scikit-learn.org/stable/modules/generated/sklearn.model_selection.cross_val_score.html"
   ]
  },
  {
   "cell_type": "markdown",
   "id": "b360079f",
   "metadata": {},
   "source": [
    "GridSearchCV: https://scikit-learn.org/stable/modules/generated/sklearn.model_selection.GridSearchCV.html"
   ]
  },
  {
   "cell_type": "markdown",
   "id": "54574939",
   "metadata": {},
   "source": [
    "Ridge： https://scikit-learn.org/stable/modules/generated/sklearn.linear_model.Ridge.html"
   ]
  },
  {
   "cell_type": "markdown",
   "id": "d4a7cced",
   "metadata": {},
   "source": [
    "RandomForestRegressor：https://scikit-learn.org/stable/modules/generated/sklearn.ensemble.RandomForestRegressor.html"
   ]
  },
  {
   "cell_type": "markdown",
   "id": "b82d7b65",
   "metadata": {},
   "source": [
    "R2_score： https://scikit-learn.org/stable/modules/generated/sklearn.metrics.r2_score.html"
   ]
  },
  {
   "cell_type": "code",
   "execution_count": null,
   "id": "3613c9be",
   "metadata": {},
   "outputs": [],
   "source": []
  }
 ],
 "metadata": {
  "kernelspec": {
   "display_name": "Python 3 (ipykernel)",
   "language": "python",
   "name": "python3"
  },
  "language_info": {
   "codemirror_mode": {
    "name": "ipython",
    "version": 3
   },
   "file_extension": ".py",
   "mimetype": "text/x-python",
   "name": "python",
   "nbconvert_exporter": "python",
   "pygments_lexer": "ipython3",
   "version": "3.7.5"
  }
 },
 "nbformat": 4,
 "nbformat_minor": 5
}
